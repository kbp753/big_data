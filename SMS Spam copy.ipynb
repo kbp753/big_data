{
 "cells": [
  {
   "cell_type": "markdown",
   "id": "6d50c244",
   "metadata": {},
   "source": [
    "# SMS Spam Classification"
   ]
  },
  {
   "cell_type": "markdown",
   "metadata": {},
   "source": [
    "## Introduction"
   ]
  },
  {
   "cell_type": "markdown",
   "metadata": {},
   "source": [
    "In the age of digital communication, SMS (Short Message Service) remains a key medium for personal and commercial messaging. However, this ubiquity also makes it a target for unsolicited and often malicious content, commonly known as \"spam\". These messages can range from annoying advertisements to phishing attempts that can potentially lead to more serious security breaches.\n",
    "\n",
    "The objective of this project is to develop a machine learning model capable of distinguishing between \"spam\" (unwanted) and \"ham\" (wanted) messages. By leveraging the power of PySpark and machine learning, we aim to filter out spam messages, thereby enhancing user experience and security."
   ]
  },
  {
   "cell_type": "markdown",
   "metadata": {},
   "source": [
    "## Approach"
   ]
  },
  {
   "cell_type": "markdown",
   "metadata": {},
   "source": [
    "#### Our approach involves several steps:\n",
    "\n",
    "1) Data Loading: We load the data into a PySpark DataFrame, which allows for distributed data processing and is particularly suited for handling large datasets.\n",
    "\n",
    "2) Data Preprocessing: This step includes text cleaning, tokenization, and conversion of text into numerical vectors that can be understood by machine learning algorithms.\n",
    "\n",
    "3) Data Exploration: Conducting an exploratory data analysis to gain insights into the dataset's characteristics, such as message length distribution and word frequencies, which can influence model design and feature selection.\n",
    "\n",
    "4) Feature Engineering: We transform the preprocessed data into features using techniques like TF-IDF (Term Frequency-Inverse Document Frequency) to capture the significance of words within the messages.\n",
    "\n",
    "5) Model Selection and Training: We experiment with several machine learning algorithms, including Logistic Regression, Naive Bayes, Support Vector Machines, and ensemble methods like Random Forest and Gradient-Boosted Trees.\n",
    "\n",
    "6) Model Evaluation: We use metrics such as accuracy, precision, recall, F1-score, and the Area Under the ROC Curve (AUC-ROC) to evaluate the performance of our models.\n",
    "\n",
    "7) Interpretation of Results: Finally, we interpret and present our results, providing insights into the model's performance, the importance of different features, and the potential impact on spam detection tasks."
   ]
  },
  {
   "cell_type": "markdown",
   "metadata": {},
   "source": [
    "# Data Loading "
   ]
  },
  {
   "cell_type": "markdown",
   "id": "7c34b88b",
   "metadata": {},
   "source": [
    "### Importing Necessary Libraries"
   ]
  },
  {
   "cell_type": "code",
   "execution_count": 1,
   "id": "1072f91b",
   "metadata": {},
   "outputs": [],
   "source": [
    "from pyspark.sql import SparkSession\n",
    "from pyspark.ml.feature import RegexTokenizer, StopWordsRemover, HashingTF, IDF\n",
    "from pyspark.ml import Pipeline\n",
    "from pyspark.sql.functions import col, when\n",
    "from pyspark.ml.classification import LogisticRegression\n",
    "from pyspark.ml.evaluation import BinaryClassificationEvaluator\n",
    "from pyspark.mllib.evaluation import MulticlassMetrics\n",
    "from pyspark.sql.types import FloatType\n",
    "from pyspark.mllib.evaluation import BinaryClassificationMetrics\n",
    "from pyspark.sql.functions import col\n",
    "import seaborn as sns"
   ]
  },
  {
   "cell_type": "markdown",
   "metadata": {},
   "source": [
    "### Setup PySpark Environment"
   ]
  },
  {
   "cell_type": "code",
   "execution_count": 2,
   "metadata": {},
   "outputs": [
    {
     "name": "stderr",
     "output_type": "stream",
     "text": [
      "Setting default log level to \"WARN\".\n",
      "To adjust logging level use sc.setLogLevel(newLevel). For SparkR, use setLogLevel(newLevel).\n",
      "23/11/08 15:20:28 WARN NativeCodeLoader: Unable to load native-hadoop library for your platform... using builtin-java classes where applicable\n"
     ]
    }
   ],
   "source": [
    "# Initialize a Spark session\n",
    "spark = SparkSession.builder \\\n",
    "    .appName(\"SMS Spam Classification\") \\\n",
    "    .getOrCreate()"
   ]
  },
  {
   "cell_type": "markdown",
   "metadata": {},
   "source": [
    "#### Load data using Pyspark"
   ]
  },
  {
   "cell_type": "code",
   "execution_count": 3,
   "metadata": {},
   "outputs": [
    {
     "name": "stdout",
     "output_type": "stream",
     "text": [
      "+-----+--------------------+\n",
      "|Label|             Message|\n",
      "+-----+--------------------+\n",
      "|  ham|Go until jurong p...|\n",
      "|  ham|Ok lar... Joking ...|\n",
      "| spam|Free entry in 2 a...|\n",
      "|  ham|U dun say so earl...|\n",
      "|  ham|Nah I don't think...|\n",
      "| spam|FreeMsg Hey there...|\n",
      "|  ham|Even my brother i...|\n",
      "|  ham|As per your reque...|\n",
      "| spam|WINNER!! As a val...|\n",
      "| spam|Had your mobile 1...|\n",
      "|  ham|I'm gonna be home...|\n",
      "| spam|SIX chances to wi...|\n",
      "| spam|URGENT! You have ...|\n",
      "|  ham|I've been searchi...|\n",
      "|  ham|I HAVE A DATE ON ...|\n",
      "| spam|XXXMobileMovieClu...|\n",
      "|  ham|Oh k...i'm watchi...|\n",
      "|  ham|Eh u remember how...|\n",
      "|  ham|Fine if thats th...|\n",
      "| spam|England v Macedon...|\n",
      "+-----+--------------------+\n",
      "only showing top 20 rows\n",
      "\n"
     ]
    }
   ],
   "source": [
    "# Load the dataset\n",
    "df = spark.read.csv('SMSSpamCollection', sep='\\t', inferSchema=True, header=False)\n",
    "df = df.withColumnRenamed('_c0', 'Label').withColumnRenamed('_c1', 'Message')\n",
    "\n",
    "# Show the first few rows\n",
    "df.show()"
   ]
  },
  {
   "cell_type": "markdown",
   "id": "ba14a171",
   "metadata": {},
   "source": [
    "## Data Preprocessing\n",
    "\n",
    "Conversion of text into numerical vectors that can be understood by machine learning algorithms."
   ]
  },
  {
   "cell_type": "code",
   "execution_count": 4,
   "metadata": {},
   "outputs": [],
   "source": [
    "# Convert 'ham'/'spam' labels to 0/1\n",
    "df = df.withColumn('Label', when(col('Label') == 'spam', 1).otherwise(0))"
   ]
  },
  {
   "cell_type": "markdown",
   "metadata": {},
   "source": [
    "## Data Exploration"
   ]
  },
  {
   "cell_type": "code",
   "execution_count": 5,
   "metadata": {},
   "outputs": [
    {
     "data": {
      "image/png": "[encoded data removed]",
      "text/plain": [
       "<Figure size 600x400 with 1 Axes>"
      ]
     },
     "metadata": {},
     "output_type": "display_data"
    }
   ],
   "source": [
    "import matplotlib.pyplot as plt\n",
    "import seaborn as sns\n",
    "\n",
    "# Convert to Pandas DataFrame for visualization\n",
    "pdf = df.toPandas()\n",
    "\n",
    "# Visualize the distribution of labels\n",
    "plt.figure(figsize=(6,4))\n",
    "sns.countplot(x='Label', data=pdf)\n",
    "plt.title('Distribution of Spam and Ham Messages')\n",
    "plt.xlabel('Label')\n",
    "plt.ylabel('Count')\n",
    "plt.show()"
   ]
  },
  {
   "cell_type": "markdown",
   "metadata": {},
   "source": [
    "The dataset comprises of 5574 instant messages named ham and spam messages, the number of spam messages is 747 while the number of ham messages is 4,827 messages."
   ]
  },
  {
   "cell_type": "markdown",
   "metadata": {},
   "source": [
    "## Feature Engineering"
   ]
  },
  {
   "cell_type": "markdown",
   "metadata": {},
   "source": [
    "Text preprocessing is a pivotal component of feature engineering in natural language processing (NLP). It involves transforming raw text into a structured format that can be understood and utilized by machine learning algorithms. The following pipeline stages outline our approach to feature engineering for the SMS spam detection task:\n",
    "\n",
    "1. **Tokenization (RegexTokenizer)**:\n",
    "   - Splits the text into words or tokens, which can then be quantified for analysis.\n",
    "\n",
    "   <br/>\n",
    "\n",
    "2. **Stop Words Removal (StopWordsRemover)**:\n",
    "\n",
    "   - Removes common words that are typically not useful for distinguishing between different classes of text.\n",
    "\n",
    "    <br/>\n",
    "\n",
    "3. **Feature Transformation (HashingTF)**:\n",
    "   - Transforms the filtered tokens into numerical feature vectors based on term frequencies.\n",
    "\n",
    "   <br/>\n",
    "\n",
    "4. **Inverse Document Frequency (IDF)**:\n",
    "   - Weighs the term frequencies by how unique they are to each document, to reflect the importance of each term.\n",
    "   \n",
    "   <br/>\n",
    "By chaining these stages together in a `Pipeline`, we streamline the feature engineering process. This pipeline not only pre-processes text data but also constructs a feature set that captures the essence of the text, which is vital for the subsequent machine learning classification task. The outcome is a set of features that can then be used to train models to differentiate spam from ham messages accurately.\n"
   ]
  },
  {
   "cell_type": "code",
   "execution_count": 6,
   "metadata": {},
   "outputs": [
    {
     "name": "stderr",
     "output_type": "stream",
     "text": [
      "                                                                                \r"
     ]
    }
   ],
   "source": [
    "# Text preprocessing pipeline\n",
    "regexTokenizer = RegexTokenizer(inputCol=\"Message\", outputCol=\"Words\", pattern=\"\\\\W\")\n",
    "stopWordsRemover = StopWordsRemover(inputCol=\"Words\", outputCol=\"Filtered\")\n",
    "hashingTF = HashingTF(inputCol=\"Filtered\", outputCol=\"RawFeatures\")\n",
    "idf = IDF(inputCol=\"RawFeatures\", outputCol=\"Features\")\n",
    "\n",
    "pipeline = Pipeline(stages=[regexTokenizer, stopWordsRemover, hashingTF, idf])\n",
    "\n",
    "# Fit the pipeline to the data\n",
    "model = pipeline.fit(df)\n",
    "df = model.transform(df)"
   ]
  },
  {
   "cell_type": "markdown",
   "id": "25688400",
   "metadata": {},
   "source": [
    "# Model Selection and Training"
   ]
  },
  {
   "cell_type": "markdown",
   "metadata": {},
   "source": [
    "In this project, we will focus on two widely used machine learning algorithms for classification tasks: Logistic Regression and Support Vector Machine (SVM). Both models have distinct characteristics that make them suitable for binary classification problems such as spam detection."
   ]
  },
  {
   "cell_type": "markdown",
   "metadata": {},
   "source": [
    "## Logistic Regression"
   ]
  },
  {
   "cell_type": "markdown",
   "metadata": {},
   "source": [
    "#### Why Choose Logistic Regression?\n",
    "\n",
    "- **Simplicity:** Logistic Regression is straightforward to implement, interpret, and very efficient to train.\n",
    "- **Performance:** Despite its simplicity, Logistic Regression can perform exceptionally well on binary classification tasks, especially when the data is linearly separable.\n",
    "- **Probabilistic Interpretation:** It provides not just a classification but also the probability of the outcome, which can be useful for decision-making.\n",
    "- **Scalability:** It scales well to large datasets and works well with sparse data from text.\n"
   ]
  },
  {
   "cell_type": "code",
   "execution_count": 7,
   "id": "54909015",
   "metadata": {},
   "outputs": [
    {
     "name": "stderr",
     "output_type": "stream",
     "text": [
      "23/11/08 15:20:35 WARN DAGScheduler: Broadcasting large task binary with size 4.1 MiB\n",
      "23/11/08 15:20:35 WARN InstanceBuilder: Failed to load implementation from:dev.ludovic.netlib.blas.JNIBLAS\n",
      "23/11/08 15:20:35 WARN InstanceBuilder: Failed to load implementation from:dev.ludovic.netlib.blas.VectorBLAS\n",
      "23/11/08 15:20:35 WARN DAGScheduler: Broadcasting large task binary with size 4.1 MiB\n",
      "23/11/08 15:20:36 WARN DAGScheduler: Broadcasting large task binary with size 4.1 MiB\n",
      "23/11/08 15:20:36 WARN DAGScheduler: Broadcasting large task binary with size 4.1 MiB\n",
      "23/11/08 15:20:36 WARN DAGScheduler: Broadcasting large task binary with size 4.1 MiB\n",
      "23/11/08 15:20:36 WARN DAGScheduler: Broadcasting large task binary with size 4.1 MiB\n",
      "23/11/08 15:20:36 WARN DAGScheduler: Broadcasting large task binary with size 4.1 MiB\n",
      "23/11/08 15:20:36 WARN DAGScheduler: Broadcasting large task binary with size 4.1 MiB\n",
      "23/11/08 15:20:36 WARN DAGScheduler: Broadcasting large task binary with size 4.1 MiB\n",
      "23/11/08 15:20:36 WARN DAGScheduler: Broadcasting large task binary with size 4.1 MiB\n",
      "23/11/08 15:20:36 WARN DAGScheduler: Broadcasting large task binary with size 4.1 MiB\n",
      "23/11/08 15:20:36 WARN DAGScheduler: Broadcasting large task binary with size 4.1 MiB\n",
      "23/11/08 15:20:36 WARN DAGScheduler: Broadcasting large task binary with size 4.1 MiB\n",
      "23/11/08 15:20:36 WARN DAGScheduler: Broadcasting large task binary with size 4.1 MiB\n",
      "23/11/08 15:20:36 WARN DAGScheduler: Broadcasting large task binary with size 4.1 MiB\n",
      "23/11/08 15:20:36 WARN DAGScheduler: Broadcasting large task binary with size 4.1 MiB\n",
      "23/11/08 15:20:37 WARN DAGScheduler: Broadcasting large task binary with size 4.1 MiB\n",
      "23/11/08 15:20:37 WARN DAGScheduler: Broadcasting large task binary with size 4.1 MiB\n",
      "23/11/08 15:20:37 WARN DAGScheduler: Broadcasting large task binary with size 4.1 MiB\n",
      "23/11/08 15:20:37 WARN DAGScheduler: Broadcasting large task binary with size 4.1 MiB\n",
      "23/11/08 15:20:37 WARN DAGScheduler: Broadcasting large task binary with size 4.1 MiB\n",
      "23/11/08 15:20:37 WARN DAGScheduler: Broadcasting large task binary with size 4.1 MiB\n",
      "23/11/08 15:20:37 WARN DAGScheduler: Broadcasting large task binary with size 4.1 MiB\n",
      "23/11/08 15:20:37 WARN DAGScheduler: Broadcasting large task binary with size 4.1 MiB\n",
      "23/11/08 15:20:37 WARN DAGScheduler: Broadcasting large task binary with size 4.1 MiB\n",
      "23/11/08 15:20:37 WARN DAGScheduler: Broadcasting large task binary with size 4.1 MiB\n",
      "23/11/08 15:20:37 WARN DAGScheduler: Broadcasting large task binary with size 4.1 MiB\n",
      "23/11/08 15:20:37 WARN DAGScheduler: Broadcasting large task binary with size 4.1 MiB\n",
      "23/11/08 15:20:37 WARN DAGScheduler: Broadcasting large task binary with size 4.1 MiB\n",
      "23/11/08 15:20:37 WARN DAGScheduler: Broadcasting large task binary with size 4.1 MiB\n",
      "23/11/08 15:20:37 WARN DAGScheduler: Broadcasting large task binary with size 4.1 MiB\n",
      "23/11/08 15:20:37 WARN DAGScheduler: Broadcasting large task binary with size 4.1 MiB\n",
      "23/11/08 15:20:37 WARN DAGScheduler: Broadcasting large task binary with size 4.1 MiB\n",
      "23/11/08 15:20:37 WARN DAGScheduler: Broadcasting large task binary with size 4.1 MiB\n",
      "23/11/08 15:20:37 WARN DAGScheduler: Broadcasting large task binary with size 4.1 MiB\n"
     ]
    }
   ],
   "source": [
    "# Split the data\n",
    "train_data, test_data = df.randomSplit([0.8, 0.2], seed=42)\n",
    "# Initialize and train the classifier\n",
    "lr = LogisticRegression(featuresCol='Features', labelCol='Label')\n",
    "lr_model = lr.fit(train_data)\n",
    "\n",
    "# Predictions\n",
    "predictions = lr_model.transform(test_data)"
   ]
  },
  {
   "cell_type": "markdown",
   "metadata": {},
   "source": [
    "### Model Evaluation"
   ]
  },
  {
   "cell_type": "code",
   "execution_count": 8,
   "metadata": {},
   "outputs": [
    {
     "name": "stderr",
     "output_type": "stream",
     "text": [
      "23/11/08 15:20:38 WARN DAGScheduler: Broadcasting large task binary with size 4.2 MiB\n"
     ]
    },
    {
     "name": "stdout",
     "output_type": "stream",
     "text": [
      "Accuracy:  0.9961789910769504\n"
     ]
    }
   ],
   "source": [
    "# Evaluate the model\n",
    "evaluator = BinaryClassificationEvaluator(rawPredictionCol='rawPrediction', labelCol='Label')\n",
    "accuracy = evaluator.evaluate(predictions)\n",
    "\n",
    "print(\"Accuracy: \", accuracy)"
   ]
  },
  {
   "cell_type": "markdown",
   "metadata": {},
   "source": [
    "### More Metrics"
   ]
  },
  {
   "cell_type": "code",
   "execution_count": 9,
   "metadata": {},
   "outputs": [
    {
     "name": "stderr",
     "output_type": "stream",
     "text": [
      "/Users/bhanu/anaconda3/envs/DSP/lib/python3.11/site-packages/pyspark/sql/context.py:158: FutureWarning: Deprecated in 3.0.0. Use SparkSession.builder.getOrCreate() instead.\n",
      "  warnings.warn(\n",
      "23/11/08 15:20:39 WARN DAGScheduler: Broadcasting large task binary with size 4.2 MiB\n",
      "23/11/08 15:20:39 WARN DAGScheduler: Broadcasting large task binary with size 4.2 MiB\n"
     ]
    },
    {
     "name": "stdout",
     "output_type": "stream",
     "text": [
      "Area under PR = 0.8798215582529308\n",
      "Area under ROC = 0.9766381766381766\n"
     ]
    },
    {
     "name": "stderr",
     "output_type": "stream",
     "text": [
      "23/11/08 15:20:40 WARN DAGScheduler: Broadcasting large task binary with size 4.2 MiB\n",
      "23/11/08 15:20:40 WARN DAGScheduler: Broadcasting large task binary with size 4.2 MiB\n",
      "23/11/08 15:20:41 WARN DAGScheduler: Broadcasting large task binary with size 4.2 MiB\n"
     ]
    },
    {
     "name": "stdout",
     "output_type": "stream",
     "text": [
      "Precision = 0.9703703703703703\n",
      "Recall = 0.891156462585034\n",
      "F1 Score = 0.9290780141843973\n"
     ]
    },
    {
     "name": "stderr",
     "output_type": "stream",
     "text": [
      "23/11/08 15:20:41 WARN DAGScheduler: Broadcasting large task binary with size 4.2 MiB\n"
     ]
    }
   ],
   "source": [
    "# Convert the predictions to an RDD\n",
    "predictions_rdd = predictions.select(col('Label').cast(FloatType()), col('prediction').cast(FloatType())).rdd\n",
    "\n",
    "# Instantiate metrics object\n",
    "metrics = BinaryClassificationMetrics(predictions_rdd)\n",
    "\n",
    "# Area under precision-recall curve\n",
    "print(\"Area under PR = %s\" % metrics.areaUnderPR)\n",
    "\n",
    "# Area under ROC curve\n",
    "print(\"Area under ROC = %s\" % metrics.areaUnderROC)\n",
    "\n",
    "# Compute confusion matrix\n",
    "tp = predictions[(predictions.Label == 1) & (predictions.prediction == 1)].count()\n",
    "tn = predictions[(predictions.Label == 0) & (predictions.prediction == 0)].count()\n",
    "fp = predictions[(predictions.Label == 0) & (predictions.prediction == 1)].count()\n",
    "fn = predictions[(predictions.Label == 1) & (predictions.prediction == 0)].count()\n",
    "\n",
    "# Calculate precision, recall, and F1-score\n",
    "precision = tp / (tp + fp)\n",
    "recall = tp / (tp + fn)\n",
    "f1_score = 2 * (precision * recall) / (precision + recall)\n",
    "\n",
    "print(\"Precision = %s\" % precision)\n",
    "print(\"Recall = %s\" % recall)\n",
    "print(\"F1 Score = %s\" % f1_score)"
   ]
  },
  {
   "cell_type": "markdown",
   "metadata": {},
   "source": [
    "### Confusion Matrix"
   ]
  },
  {
   "cell_type": "code",
   "execution_count": 10,
   "metadata": {},
   "outputs": [
    {
     "data": {
      "image/png": "[encoded data removed]",
      "text/plain": [
       "<Figure size 600x600 with 1 Axes>"
      ]
     },
     "metadata": {},
     "output_type": "display_data"
    }
   ],
   "source": [
    "# Plot Confusion Matrix\n",
    "confusion_matrix = [[tn, fp], [fn, tp]]\n",
    "\n",
    "plt.figure(figsize=(6,6))\n",
    "sns.heatmap(confusion_matrix, annot=True, fmt='g', cmap='Blues', cbar=False)\n",
    "plt.title('Confusion Matrix')\n",
    "plt.xlabel('Predicted Labels')\n",
    "plt.ylabel('True Labels')\n",
    "plt.show()"
   ]
  },
  {
   "cell_type": "markdown",
   "metadata": {},
   "source": [
    "### Performance Analysis of Logistic Regression\n",
    "\n",
    "\n",
    "- **Accuracy:** The model achieved a remarkable accuracy of 99.62%, indicating its strong capability to correctly classify messages as spam or ham.\n",
    "- **Area Under Precision-Recall Curve (PR):** The area under the PR curve is 0.8798, indicating a high precision-recall balance. This is particularly important in spam detection tasks where both false positives and false negatives carry significant weight.\n",
    "- **Area Under ROC Curve (ROC):** With an area under the ROC of 0.9766, the model demonstrates a strong capability to discriminate between the positive and negative classes. A value close to 1 indicates a high true positive rate and a low false positive rate.\n",
    "- **Precision:** The precision of 97.04% means that when the model predicts an SMS as spam, it is correct 97.04% of the time. This minimizes the inconvenience of blocking legitimate messages (false positives).\n",
    "- **Recall:** The recall of 89.12% indicates that the model successfully identifies 89.12% of all actual spam messages. It's a measure of the model's ability to catch spam, and while high, there's room to improve to catch more spam messages.\n",
    "- **F1 Score:** The F1 Score of 92.91% is a harmonic mean of precision and recall, suggesting a balanced model, although the slightly lower recall hints at the potential for missing some spam messages (false negatives).\n",
    "\n",
    "\n",
    "In summary, the Logistic Regression classifier shows strong performance across multiple metrics, affirming its suitability for the spam detection task.\n"
   ]
  },
  {
   "cell_type": "markdown",
   "metadata": {},
   "source": [
    "\n",
    "## SVM"
   ]
  },
  {
   "cell_type": "markdown",
   "metadata": {},
   "source": [
    "Support Vector Machine (SVM) is another powerful classification algorithm capable of performing linear and non-linear classification. By finding the hyperplane that best separates the data points into classes, SVM can be highly effective in high-dimensional spaces, which is often the case with text data.\n",
    "\n",
    "#### Why Choose SVM?\n",
    "\n",
    "- **Effectiveness in High Dimensions:** SVM is effective in spaces with a high number of dimensions, such as text classification where each word or n-gram can be considered a dimension.\n",
    "- **Versatility:** The kernel trick can be applied to solve non-linear problems, making SVM very versatile.\n",
    "- **Maximizing Margin:** SVM attempts to maximize the margin between data points of the classes, which can contribute to better generalization.\n",
    "- **Robustness:** It is robust to outliers and can handle non-linear data with the appropriate kernel."
   ]
  },
  {
   "cell_type": "code",
   "execution_count": 11,
   "metadata": {},
   "outputs": [
    {
     "name": "stderr",
     "output_type": "stream",
     "text": [
      "23/11/08 15:20:41 WARN DAGScheduler: Broadcasting large task binary with size 4.1 MiB\n",
      "23/11/08 15:20:41 WARN DAGScheduler: Broadcasting large task binary with size 4.1 MiB\n",
      "23/11/08 15:20:42 WARN DAGScheduler: Broadcasting large task binary with size 4.1 MiB\n",
      "23/11/08 15:20:42 WARN DAGScheduler: Broadcasting large task binary with size 4.1 MiB\n",
      "23/11/08 15:20:42 WARN DAGScheduler: Broadcasting large task binary with size 4.1 MiB\n",
      "23/11/08 15:20:42 WARN DAGScheduler: Broadcasting large task binary with size 4.1 MiB\n",
      "23/11/08 15:20:42 WARN DAGScheduler: Broadcasting large task binary with size 4.1 MiB\n",
      "23/11/08 15:20:42 WARN DAGScheduler: Broadcasting large task binary with size 4.1 MiB\n",
      "23/11/08 15:20:42 WARN DAGScheduler: Broadcasting large task binary with size 4.1 MiB\n",
      "23/11/08 15:20:42 WARN DAGScheduler: Broadcasting large task binary with size 4.1 MiB\n",
      "23/11/08 15:20:42 WARN DAGScheduler: Broadcasting large task binary with size 4.1 MiB\n",
      "23/11/08 15:20:42 WARN DAGScheduler: Broadcasting large task binary with size 4.1 MiB\n",
      "23/11/08 15:20:42 WARN DAGScheduler: Broadcasting large task binary with size 4.1 MiB\n",
      "23/11/08 15:20:42 WARN DAGScheduler: Broadcasting large task binary with size 4.1 MiB\n",
      "23/11/08 15:20:43 WARN DAGScheduler: Broadcasting large task binary with size 4.1 MiB\n",
      "23/11/08 15:20:43 WARN DAGScheduler: Broadcasting large task binary with size 4.1 MiB\n",
      "23/11/08 15:20:43 WARN DAGScheduler: Broadcasting large task binary with size 4.1 MiB\n",
      "23/11/08 15:20:43 WARN DAGScheduler: Broadcasting large task binary with size 4.1 MiB\n",
      "23/11/08 15:20:43 WARN DAGScheduler: Broadcasting large task binary with size 4.1 MiB\n",
      "23/11/08 15:20:43 WARN DAGScheduler: Broadcasting large task binary with size 4.1 MiB\n",
      "23/11/08 15:20:43 WARN GarbageCollectionMetrics: To enable non-built-in garbage collector(s) List(G1 Concurrent GC), users should configure it(them) to spark.eventLog.gcMetrics.youngGenerationGarbageCollectors or spark.eventLog.gcMetrics.oldGenerationGarbageCollectors\n",
      "23/11/08 15:20:43 WARN DAGScheduler: Broadcasting large task binary with size 4.1 MiB\n",
      "23/11/08 15:20:43 WARN DAGScheduler: Broadcasting large task binary with size 4.1 MiB\n",
      "23/11/08 15:20:43 WARN DAGScheduler: Broadcasting large task binary with size 4.1 MiB\n"
     ]
    }
   ],
   "source": [
    "from pyspark.ml.classification import LinearSVC\n",
    "\n",
    "# Initialize and train the SVM classifier\n",
    "svm = LinearSVC(featuresCol='Features', labelCol='Label', maxIter=10, regParam=0.1)\n",
    "svm_model = svm.fit(train_data)"
   ]
  },
  {
   "cell_type": "markdown",
   "metadata": {},
   "source": [
    "#### Model Evaluation"
   ]
  },
  {
   "cell_type": "code",
   "execution_count": 12,
   "metadata": {},
   "outputs": [
    {
     "name": "stderr",
     "output_type": "stream",
     "text": [
      "23/11/08 15:20:43 WARN DAGScheduler: Broadcasting large task binary with size 6.1 MiB\n"
     ]
    },
    {
     "name": "stdout",
     "output_type": "stream",
     "text": [
      "SVM Accuracy:  0.9970698236004358\n"
     ]
    }
   ],
   "source": [
    "# Predictions\n",
    "svm_predictions = svm_model.transform(test_data)\n",
    "\n",
    "# Evaluate the model\n",
    "svm_accuracy = evaluator.evaluate(svm_predictions)\n",
    "print(\"SVM Accuracy: \", svm_accuracy)"
   ]
  },
  {
   "cell_type": "markdown",
   "metadata": {},
   "source": [
    "### More Metrics"
   ]
  },
  {
   "cell_type": "code",
   "execution_count": 13,
   "metadata": {},
   "outputs": [
    {
     "name": "stderr",
     "output_type": "stream",
     "text": [
      "/Users/bhanu/anaconda3/envs/DSP/lib/python3.11/site-packages/pyspark/sql/context.py:158: FutureWarning: Deprecated in 3.0.0. Use SparkSession.builder.getOrCreate() instead.\n",
      "  warnings.warn(\n",
      "23/11/08 15:20:44 WARN DAGScheduler: Broadcasting large task binary with size 6.1 MiB\n",
      "23/11/08 15:20:44 WARN DAGScheduler: Broadcasting large task binary with size 6.1 MiB\n"
     ]
    },
    {
     "name": "stdout",
     "output_type": "stream",
     "text": [
      "SVM Area under PR = 0.9016287366010235\n",
      "SVM Area under ROC = 0.9722717913520934\n"
     ]
    },
    {
     "name": "stderr",
     "output_type": "stream",
     "text": [
      "23/11/08 15:20:44 WARN DAGScheduler: Broadcasting large task binary with size 6.1 MiB\n",
      "23/11/08 15:20:44 WARN DAGScheduler: Broadcasting large task binary with size 6.1 MiB\n",
      "23/11/08 15:20:45 WARN DAGScheduler: Broadcasting large task binary with size 6.1 MiB\n"
     ]
    },
    {
     "name": "stdout",
     "output_type": "stream",
     "text": [
      "SVM Precision = 0.9574468085106383\n",
      "SVM Recall = 0.9183673469387755\n",
      "SVM F1 Score = 0.9375000000000001\n"
     ]
    },
    {
     "name": "stderr",
     "output_type": "stream",
     "text": [
      "23/11/08 15:20:45 WARN DAGScheduler: Broadcasting large task binary with size 6.1 MiB\n"
     ]
    }
   ],
   "source": [
    "from pyspark.sql.functions import col\n",
    "import seaborn as sns\n",
    "\n",
    "# Convert the predictions to an RDD\n",
    "svm_predictions_rdd = svm_predictions.select(col('Label').cast(FloatType()), col('prediction').cast(FloatType())).rdd\n",
    "\n",
    "# Instantiate metrics object\n",
    "svm_metrics = BinaryClassificationMetrics(svm_predictions_rdd)\n",
    "\n",
    "# Area under precision-recall curve\n",
    "print(\"SVM Area under PR = %s\" % svm_metrics.areaUnderPR)\n",
    "\n",
    "# Area under ROC curve\n",
    "print(\"SVM Area under ROC = %s\" % svm_metrics.areaUnderROC)\n",
    "\n",
    "# Compute confusion matrix\n",
    "svm_tp = svm_predictions[(svm_predictions.Label == 1) & (svm_predictions.prediction == 1)].count()\n",
    "svm_tn = svm_predictions[(svm_predictions.Label == 0) & (svm_predictions.prediction == 0)].count()\n",
    "svm_fp = svm_predictions[(svm_predictions.Label == 0) & (svm_predictions.prediction == 1)].count()\n",
    "svm_fn = svm_predictions[(svm_predictions.Label == 1) & (svm_predictions.prediction == 0)].count()\n",
    "\n",
    "# Calculate precision, recall, and F1-score\n",
    "svm_precision = svm_tp / (svm_tp + svm_fp)\n",
    "svm_recall = svm_tp / (svm_tp + svm_fn)\n",
    "svm_f1_score = 2 * (svm_precision * svm_recall) / (svm_precision + svm_recall)\n",
    "\n",
    "print(\"SVM Precision = %s\" % svm_precision)\n",
    "print(\"SVM Recall = %s\" % svm_recall)\n",
    "print(\"SVM F1 Score = %s\" % svm_f1_score)"
   ]
  },
  {
   "cell_type": "markdown",
   "metadata": {},
   "source": [
    "### Confusion Matrix"
   ]
  },
  {
   "cell_type": "code",
   "execution_count": 14,
   "metadata": {},
   "outputs": [
    {
     "data": {
      "image/png": "[encoded data removed]",
      "text/plain": [
       "<Figure size 600x600 with 1 Axes>"
      ]
     },
     "metadata": {},
     "output_type": "display_data"
    },
    {
     "name": "stderr",
     "output_type": "stream",
     "text": [
      "23/11/08 18:47:28 WARN TransportChannelHandler: Exception in connection from eduroam-226-68-165.laptops.usf.edu/10.226.68.165:54706\n",
      "java.io.IOException: Operation timed out\n",
      "\tat java.base/sun.nio.ch.SocketDispatcher.read0(Native Method)\n",
      "\tat java.base/sun.nio.ch.SocketDispatcher.read(SocketDispatcher.java:47)\n",
      "\tat java.base/sun.nio.ch.IOUtil.readIntoNativeBuffer(IOUtil.java:340)\n",
      "\tat java.base/sun.nio.ch.IOUtil.read(IOUtil.java:294)\n",
      "\tat java.base/sun.nio.ch.IOUtil.read(IOUtil.java:269)\n",
      "\tat java.base/sun.nio.ch.SocketChannelImpl.read(SocketChannelImpl.java:425)\n",
      "\tat io.netty.buffer.PooledByteBuf.setBytes(PooledByteBuf.java:254)\n",
      "\tat io.netty.buffer.AbstractByteBuf.writeBytes(AbstractByteBuf.java:1132)\n",
      "\tat io.netty.channel.socket.nio.NioSocketChannel.doReadBytes(NioSocketChannel.java:357)\n",
      "\tat io.netty.channel.nio.AbstractNioByteChannel$NioByteUnsafe.read(AbstractNioByteChannel.java:151)\n",
      "\tat io.netty.channel.nio.NioEventLoop.processSelectedKey(NioEventLoop.java:788)\n",
      "\tat io.netty.channel.nio.NioEventLoop.processSelectedKeysOptimized(NioEventLoop.java:724)\n",
      "\tat io.netty.channel.nio.NioEventLoop.processSelectedKeys(NioEventLoop.java:650)\n",
      "\tat io.netty.channel.nio.NioEventLoop.run(NioEventLoop.java:562)\n",
      "\tat io.netty.util.concurrent.SingleThreadEventExecutor$4.run(SingleThreadEventExecutor.java:997)\n",
      "\tat io.netty.util.internal.ThreadExecutorMap$2.run(ThreadExecutorMap.java:74)\n",
      "\tat io.netty.util.concurrent.FastThreadLocalRunnable.run(FastThreadLocalRunnable.java:30)\n",
      "\tat java.base/java.lang.Thread.run(Thread.java:1583)\n"
     ]
    }
   ],
   "source": [
    "# Plot Confusion Matrix\n",
    "svm_confusion_matrix = [[svm_tn, svm_fp], [svm_fn, svm_tp]]\n",
    "\n",
    "plt.figure(figsize=(6,6))\n",
    "sns.heatmap(svm_confusion_matrix, annot=True, fmt='g', cmap='Blues', cbar=False)\n",
    "plt.title('SVM Confusion Matrix')\n",
    "plt.xlabel('Predicted Labels')\n",
    "plt.ylabel('True Labels')\n",
    "plt.show()"
   ]
  },
  {
   "cell_type": "markdown",
   "metadata": {},
   "source": [
    "## Performance of SVM Classifier\n",
    "\n",
    "The Support Vector Machine (SVM) model has delivered a commendable accuracy of approximately 99.71% on our test set, suggesting its strong capability to differentiate between spam and ham messages.\n",
    "\n",
    "### Understanding the Metrics:\n",
    "\n",
    "- **Accuracy:** The SVM classifier's accuracy of 99.71% is outstanding, indicating that it correctly classifies spam and ham messages the majority of the time.\n",
    "- **Precision:** A precision of 95.74% means that out of all the messages the SVM model labels as spam, 95.74% truly are spam. This high precision reflects the model's effectiveness in ensuring that non-spam messages are not wrongly categorized as spam.\n",
    "- **Recall:** The recall rate of 91.84% indicates that the SVM model identifies 91.84% of all actual spam messages. While slightly lower than the precision, this recall rate still represents a strong ability to capture most spam messages.\n",
    "- **F1 Score:** The F1 score, which is the harmonic mean of precision and recall, stands at 93.75%. This score conveys the balance between precision and recall, with a slight inclination towards precision in this case."
   ]
  },
  {
   "cell_type": "markdown",
   "metadata": {},
   "source": [
    "# Conclusion\n",
    "\n",
    "### Project Summary\n",
    "\n",
    "Throughout this project, we have undertaken the task of designing and implementing a machine learning-based solution for the classification of SMS messages into 'spam' and 'ham'. Utilizing PySpark's powerful data processing capabilities, we have processed and transformed text data into a suitable format for machine learning models, conducted exploratory data analysis to gain insights, and applied feature engineering to extract meaningful attributes from the messages.\n",
    "\n",
    "### Model Insights\n",
    "\n",
    "Two models were rigorously trained, evaluated, and compared: Logistic Regression and Support Vector Machine (SVM). Both models demonstrated exceptional performance, with the SVM achieving a slightly higher accuracy.\n",
    "\n",
    "### Key Findings\n",
    "\n",
    "- **Logistic Regression**: Exhibited high accuracy, strong precision-recall balance, and provided probabilities for the predicted outcomes, which are advantageous for interpretability and threshold tuning.\n",
    "- **Support Vector Machine**: Showed a slight edge over Logistic Regression in terms of accuracy and maintained robust precision and recall, suggesting its efficacy in high-dimensional classification tasks like text classification.\n",
    "\n",
    "### Future Work\n",
    "\n",
    "- **Model Tuning and Exploration**: Further tuning of hyperparameters could improve model performance, especially in terms of recall for the SVM model.\n",
    "- **Real-World Testing**: Deploying the model to a live environment for further testing with real-world data would be essential to ensure its practical applicability.\n",
    "\n",
    "### Closing Thoughts\n",
    "\n",
    "The high performance of the models suggests that we have a viable solution to the problem of SMS spam. However, as with any machine learning project, continuous improvement and adaptation to new data are crucial. Future work should also consider the dynamic nature of spam messages and the need for the model to adapt to new patterns over time.\n",
    "\n",
    "This project has demonstrated the power of machine learning in enhancing digital communication security and provides a solid foundation for developing a spam detection system that could be deployed in real-world scenarios.\n"
   ]
  }
 ],
 "metadata": {
  "kernelspec": {
   "display_name": "DSP",
   "language": "python",
   "name": "python3"
  },
  "language_info": {
   "codemirror_mode": {
    "name": "ipython",
    "version": 3
   },
   "file_extension": ".py",
   "mimetype": "text/x-python",
   "name": "python",
   "nbconvert_exporter": "python",
   "pygments_lexer": "ipython3",
   "version": "3.11.5"
  }
 },
 "nbformat": 4,
 "nbformat_minor": 5
}
